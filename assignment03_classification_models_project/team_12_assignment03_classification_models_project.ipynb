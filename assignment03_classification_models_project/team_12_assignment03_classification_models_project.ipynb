{
 "cells": [
  {
   "cell_type": "markdown",
   "metadata": {},
   "source": [
    "# Assignment 3: Classification Models Project\n",
    "\n",
    "[classification_models_project](classification_models_project.md)\n",
    "\n",
    "Team 12 Members:\n",
    "\n",
    "- [Alicia Luna](https://github.com/aluna4)\n",
    "- [Derek Dilger](https://github.com/derekdilger)\n",
    "- [Gary Young](https://github.com/garyyoungcsc)\n",
    "- [Ian Schultz](https://github.com/Ian-Sanity)\n",
    "- [Jesus Cervantes](https://github.com/Jescer3)\n",
    "- [Matthew Mendoza](https://github.com/matt2ology)\n",
    "- [Thomas Jaramillo-Ochoa](https://github.com/tjaramillo452329)\n",
    "- [Yun-jeong Lee](https://github.com/yunjeongiya)\n"
   ]
  }
 ],
 "metadata": {
  "language_info": {
   "name": "python"
  }
 },
 "nbformat": 4,
 "nbformat_minor": 2
}
