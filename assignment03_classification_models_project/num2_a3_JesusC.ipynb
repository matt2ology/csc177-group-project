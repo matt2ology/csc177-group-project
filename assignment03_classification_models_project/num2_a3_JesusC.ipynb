{
 "cells": [
  {
   "cell_type": "code",
   "execution_count": null,
   "metadata": {},
   "outputs": [],
   "source": [
    "import pandas as pd\n",
    "from sklearn.model_selection import train_test_split\n",
    "from sklearn.feature_selection import SelectKBest\n",
    "from sklearn.linear_model import LogisticRegression\n",
    "from sklearn.metrics import accuracy_score\n",
    "\n",
    "# Load the dataset\n",
    "data = pd.read_csv('./data/churn_modelling.csv')\n",
    "\n",
    "# Assuming preprocessing is done here (e.g., encoding, scaling)\n",
    "\n",
    "# Define X (features) and y (target variable)\n",
    "# You'll need to adjust this based on your dataset's structure\n",
    "X = data.drop('TargetColumn', axis=1)\n",
    "y = data['TargetColumn']\n",
    "\n",
    "# Split the dataset\n",
    "X_train, X_test, y_train, y_test = train_test_split(X, y, test_size=0.25, random_state=42)\n",
    "\n",
    "# Feature selection on the training set only\n",
    "selector = SelectKBest(k=25) # adjust 'k' based on your requirement\n",
    "X_train_selected = selector.fit_transform(X_train, y_train)\n",
    "\n",
    "# Train the model\n",
    "lr = LogisticRegression()\n",
    "lr.fit(X_train_selected, y_train)\n",
    "\n",
    "# Apply the same feature selection to the test set\n",
    "X_test_selected = selector.transform(X_test)\n",
    "\n",
    "# Test the model\n",
    "y_pred = lr.predict(X_test_selected)\n",
    "accuracy = accuracy_score(y_test, y_pred)\n",
    "\n",
    "print(f\"Model accuracy: {accuracy}\")\n",
    "\n"
   ]
  }
 ],
 "metadata": {
  "kernelspec": {
   "display_name": "Python 3",
   "language": "python",
   "name": "python3"
  },
  "language_info": {
   "codemirror_mode": {
    "name": "ipython",
    "version": 3
   },
   "file_extension": ".py",
   "mimetype": "text/x-python",
   "name": "python",
   "nbconvert_exporter": "python",
   "pygments_lexer": "ipython3",
   "version": "3.11.0"
  }
 },
 "nbformat": 4,
 "nbformat_minor": 2
}
