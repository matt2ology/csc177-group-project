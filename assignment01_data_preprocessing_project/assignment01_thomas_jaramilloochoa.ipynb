{
 "cells": [
  {
   "cell_type": "markdown",
   "metadata": {},
   "source": [
    "Assignment 01: Data Processing Project - Thomas Jaramillo-Ochoa\n"
   ]
  },
  {
   "cell_type": "code",
   "execution_count": 8,
   "metadata": {},
   "outputs": [
    {
     "name": "stdout",
     "output_type": "stream",
     "text": [
      "     LungCap(cc)  Age( years)  Height(inches) Smoke  Gender Caesarean  \\\n",
      "0          6.475          6.0            62.1   NaN    male        no   \n",
      "1         10.125         18.0            74.7   yes  female        no   \n",
      "2          9.550         16.0            69.7    no  female       yes   \n",
      "3         11.125         14.0            71.0    no    male        no   \n",
      "4          4.800          5.0            56.9    no    male        no   \n",
      "..           ...          ...             ...   ...     ...       ...   \n",
      "741        9.925         16.0            68.3    no  female        no   \n",
      "742        8.725         19.0            68.4    no  female        no   \n",
      "743        7.075         11.0            66.7    no    male       yes   \n",
      "744        8.825         16.0            71.3   yes  female        no   \n",
      "745          NaN         17.0            68.8    no    male       yes   \n",
      "\n",
      "     No of children  Weight (kg)  weight_lbs  \n",
      "0                 3        85.70  188.935934  \n",
      "1                 0        98.75  217.706225  \n",
      "2                 0        11.01   24.272866  \n",
      "3                 1        29.78   65.653584  \n",
      "4                 4        72.84  160.584521  \n",
      "..              ...          ...         ...  \n",
      "741               3        68.30  150.575546  \n",
      "742               3        68.40  150.796008  \n",
      "743               4        66.70  147.048154  \n",
      "744               0        71.30  157.189406  \n",
      "745               2        68.80  151.677856  \n",
      "\n",
      "[746 rows x 9 columns]\n"
     ]
    }
   ],
   "source": [
    "# Calculated Fields\n",
    "# using lungCapacity.csv from https://www.kaggle.com/datasets/sulaimanahmed/lung-capacity-data/\n",
    "# converting weight (kg) to weight (lbs) and adding a new column\n",
    "\n",
    "import os\n",
    "import pandas as pd\n",
    "import numpy as np\n",
    "\n",
    "path = os.getcwd() + os.path.normpath(path=\"/data/kaggle-lung-capacity-data\")\n",
    "\n",
    "filename = os.path.join(path, \"lungcapacity.csv\")\n",
    "\n",
    "df = pd.read_csv(filename, na_values=['NaN', '?'])\n",
    "\n",
    "df.insert(8, 'weight_lbs', (df['Weight (kg)']*2.20462).astype(float))\n",
    "print(df)"
   ]
  },
  {
   "cell_type": "markdown",
   "metadata": {},
   "source": [
    "Here we can see that the column Weight (kg) was taken and converted into Weight_lbs and a new column was added to hold these values.\n",
    "\n",
    "```txt\n",
    "     LungCap(cc)  Age( years)  Height(inches) Smoke  Gender Caesarean  No of children  Weight (kg)  weight_lbs\n",
    "0          6.475          6.0            62.1   NaN    male        no               3        85.70  188.935934\n",
    "1         10.125         18.0            74.7   yes  female        no               0        98.75  217.706225\n",
    "2          9.550         16.0            69.7    no  female       yes               0        11.01   24.272866\n",
    "3         11.125         14.0            71.0    no    male        no               1        29.78   65.653584\n",
    "4          4.800          5.0            56.9    no    male        no               4        72.84  160.584521\n",
    "..           ...          ...             ...   ...     ...       ...             ...          ...         ...\n",
    "741        9.925         16.0            68.3    no  female        no               3        68.30  150.575546\n",
    "742        8.725         19.0            68.4    no  female        no               3        68.40  150.796008\n",
    "743        7.075         11.0            66.7    no    male       yes               4        66.70  147.048154\n",
    "744        8.825         16.0            71.3   yes  female        no               0        71.30  157.189406\n",
    "745          NaN         17.0            68.8    no    male       yes               2        68.80  151.677856\n",
    "```\n"
   ]
  },
  {
   "cell_type": "code",
   "execution_count": 10,
   "metadata": {},
   "outputs": [
    {
     "name": "stdout",
     "output_type": "stream",
     "text": [
      "     LungCap(cc)  Age( years)  Height(inches) Smoke  Gender Caesarean  \\\n",
      "0          6.475          6.0            62.1   NaN    male        no   \n",
      "1         10.125         18.0            74.7   yes  female        no   \n",
      "2          9.550         16.0            69.7    no  female       yes   \n",
      "3         11.125         14.0            71.0    no    male        no   \n",
      "4          4.800          5.0            56.9    no    male        no   \n",
      "..           ...          ...             ...   ...     ...       ...   \n",
      "741        9.925         16.0            68.3    no  female        no   \n",
      "742        8.725         19.0            68.4    no  female        no   \n",
      "743        7.075         11.0            66.7    no    male       yes   \n",
      "744        8.825         16.0            71.3   yes  female        no   \n",
      "745          NaN         17.0            68.8    no    male       yes   \n",
      "\n",
      "     No of children  Weight (kg)  \n",
      "0                 3     1.669226  \n",
      "1                 0     2.595413  \n",
      "2                 0    -3.631685  \n",
      "3                 1    -2.299538  \n",
      "4                 4     0.756524  \n",
      "..              ...          ...  \n",
      "741               3     0.434310  \n",
      "742               3     0.441408  \n",
      "743               4     0.320755  \n",
      "744               0     0.647227  \n",
      "745               2     0.469796  \n",
      "\n",
      "[746 rows x 8 columns]\n"
     ]
    }
   ],
   "source": [
    "# Thomas Jaramillo-ochoa\n",
    "\n",
    "# feature normalization\n",
    "# using lungCapacity.csv\n",
    "#\n",
    "# manually calculate z score...\n",
    "#\n",
    "# from calculate Z score to delete outliers\n",
    "#\n",
    "# Z = (\"data\"-\"data\".mean())/\"data\".std()\n",
    "# print('Number of rows before discarding outliers = %d' %(z.shape[0]))\n",
    "# Z2 = Z.loc[((Z > -3).sum(axis=1)==9) & ((Z <= 3).sum(axis=1)==9),:]\n",
    "# print('Number of rows after discarding missing values = %d' % (Z2.shape[0]))\n",
    "\n",
    "import os\n",
    "import pandas as pd\n",
    "import numpy as np\n",
    "\n",
    "path = os.getcwd() + os.path.normpath(path=\"/data/kaggle-lung-capacity-data\")\n",
    "\n",
    "filename = os.path.join(path, \"lungcapacity.csv\")\n",
    "\n",
    "df = pd.read_csv(filename, na_values=['NaN', '?'])\n",
    "\n",
    "z = (df['Weight (kg)'] - df['Weight (kg)'].mean()) / df['Weight (kg)'].std()\n",
    "\n",
    "df['Weight (kg)'] = z\n",
    "\n",
    "print(df)"
   ]
  },
  {
   "cell_type": "markdown",
   "metadata": {},
   "source": [
    "Here we are normalizing the values so that they can be easily compared.\n",
    "Each Z score has been calculated for Weight (kg).\n",
    "This will help us determine which values are above or below average.\n",
    "\n",
    "```txt\n",
    "LungCap(cc) Age( years) Height(inches) Smoke Gender Caesarean No of children Weight (kg)\n",
    "0 6.475 6.0 62.1 NaN male no 3 1.669226\n",
    "1 10.125 18.0 74.7 yes female no 0 2.595413\n",
    "2 9.550 16.0 69.7 no female yes 0 -3.631685\n",
    "3 11.125 14.0 71.0 no male no 1 -2.299538\n",
    "4 4.800 5.0 56.9 no male no 4 0.756524\n",
    ".. ... ... ... ... ... ... ... ...\n",
    "741 9.925 16.0 68.3 no female no 3 0.434310\n",
    "742 8.725 19.0 68.4 no female no 3 0.441408\n",
    "743 7.075 11.0 66.7 no male yes 4 0.320755\n",
    "744 8.825 16.0 71.3 yes female no 0 0.647227\n",
    "745 NaN 17.0 68.8 no male yes 2 0.469796\n",
    "```\n"
   ]
  }
 ],
 "metadata": {
  "interpreter": {
   "hash": "9f2c8be446f7beccb25da25e5737b8dc9beca7821a277603ad81fd783a39d3b3"
  },
  "kernelspec": {
   "display_name": "Python 3.11.4 64-bit ('base': conda)",
   "language": "python",
   "name": "python3"
  },
  "language_info": {
   "codemirror_mode": {
    "name": "ipython",
    "version": 3
   },
   "file_extension": ".py",
   "mimetype": "text/x-python",
   "name": "python",
   "nbconvert_exporter": "python",
   "pygments_lexer": "ipython3",
   "version": "3.11.4"
  },
  "orig_nbformat": 4
 },
 "nbformat": 4,
 "nbformat_minor": 2
}
