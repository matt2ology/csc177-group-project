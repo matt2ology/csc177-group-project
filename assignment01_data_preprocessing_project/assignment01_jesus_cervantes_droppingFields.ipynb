{
 "cells": [
  {
   "cell_type": "code",
   "execution_count": 2,
   "metadata": {},
   "outputs": [
    {
     "name": "stdout",
     "output_type": "stream",
     "text": [
      "Data before dropping any columns:\n",
      "    age  sex   cp  trestbps   chol  fbs  restecg  thalach  exang  oldpeak  \\\n",
      "0  63.0  1.0  1.0     145.0  233.0  1.0      2.0    150.0    0.0      2.3   \n",
      "1  67.0  1.0  4.0     160.0  286.0  0.0      2.0    108.0    1.0      1.5   \n",
      "2  67.0  1.0  4.0     120.0  229.0  0.0      2.0    129.0    1.0      2.6   \n",
      "3  37.0  1.0  3.0     130.0  250.0  0.0      0.0    187.0    0.0      3.5   \n",
      "4  41.0  0.0  2.0     130.0  204.0  0.0      2.0    172.0    0.0      1.4   \n",
      "\n",
      "   slope   ca  thal  num           name  Unnamed: 15  \n",
      "0    3.0  0.0   6.0  0.0    James Smith          NaN  \n",
      "1    2.0  3.0   3.0  2.0   Robert Jones          NaN  \n",
      "2    2.0  2.0   7.0  1.0    John Miller          NaN  \n",
      "3    3.0  0.0   3.0  0.0     Mary Davis          NaN  \n",
      "4    1.0  0.0   3.0  0.0  Emily Johnson          NaN  \n",
      "\n",
      "Data after dropping the unwanted columns:\n",
      "    age  sex   cp  trestbps   chol  fbs  restecg  thalach  exang  oldpeak  \\\n",
      "0  63.0  1.0  1.0     145.0  233.0  1.0      2.0    150.0    0.0      2.3   \n",
      "1  67.0  1.0  4.0     160.0  286.0  0.0      2.0    108.0    1.0      1.5   \n",
      "2  67.0  1.0  4.0     120.0  229.0  0.0      2.0    129.0    1.0      2.6   \n",
      "3  37.0  1.0  3.0     130.0  250.0  0.0      0.0    187.0    0.0      3.5   \n",
      "4  41.0  0.0  2.0     130.0  204.0  0.0      2.0    172.0    0.0      1.4   \n",
      "\n",
      "   slope   ca  thal  num  \n",
      "0    3.0  0.0   6.0  0.0  \n",
      "1    2.0  3.0   3.0  2.0  \n",
      "2    2.0  2.0   7.0  1.0  \n",
      "3    3.0  0.0   3.0  0.0  \n",
      "4    1.0  0.0   3.0  0.0  \n"
     ]
    }
   ],
   "source": [
    "import os\n",
    "import pandas as pd\n",
    "import numpy as np\n",
    "\n",
    "path = \"./droppingFieldsData/\"\n",
    "\n",
    "filename_read = os.path.join(path,\"uci_heartDisease_changed_dropping.csv\")\n",
    "df = pd.read_csv(filename_read, na_values=['NA','?'])\n",
    "\n",
    "# Print data before dropping any columns\n",
    "print(\"Data before dropping any columns:\")\n",
    "print(df.head())\n",
    "\n",
    "# Remove the 'Unnamed: 15' column if it exists\n",
    "if 'Unnamed: 15' in df.columns:\n",
    "    df.drop('Unnamed: 15', axis=1, inplace=True)\n",
    "\n",
    "# Check and drop the 'name' column if it exists\n",
    "if 'name' in df.columns:\n",
    "    df.drop('name', axis=1, inplace=True)\n",
    "else:\n",
    "    print(\"'name' column not found in the DataFrame\")\n",
    "\n",
    "# Print data after dropping the columns\n",
    "print(\"\\nData after dropping the unwanted columns:\")\n",
    "print(df.head())\n"
   ]
  }
 ],
 "metadata": {
  "kernelspec": {
   "display_name": "Python 3",
   "language": "python",
   "name": "python3"
  },
  "language_info": {
   "codemirror_mode": {
    "name": "ipython",
    "version": 3
   },
   "file_extension": ".py",
   "mimetype": "text/x-python",
   "name": "python",
   "nbconvert_exporter": "python",
   "pygments_lexer": "ipython3",
   "version": "3.11.0"
  }
 },
 "nbformat": 4,
 "nbformat_minor": 2
}
