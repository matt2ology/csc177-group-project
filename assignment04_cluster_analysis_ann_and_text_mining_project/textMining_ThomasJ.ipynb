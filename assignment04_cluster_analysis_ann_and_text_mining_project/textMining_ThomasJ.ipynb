{
 "cells": [
  {
   "cell_type": "code",
   "execution_count": 1,
   "metadata": {},
   "outputs": [
    {
     "ename": "ModuleNotFoundError",
     "evalue": "No module named 'sklearn'",
     "output_type": "error",
     "traceback": [
      "\u001b[1;31m---------------------------------------------------------------------------\u001b[0m",
      "\u001b[1;31mModuleNotFoundError\u001b[0m                       Traceback (most recent call last)",
      "\u001b[1;32mc:\\Users\\Test Subject 1\\Desktop\\Fall 2023\\CSC 177\\csc177-group-project\\assignment04_cluster_analysis_ann_and_text_mining_project\\textMining_ThomasJ.ipynb Cell 1\u001b[0m line \u001b[0;36m1\n\u001b[1;32m----> <a href='vscode-notebook-cell:/c%3A/Users/Test%20Subject%201/Desktop/Fall%202023/CSC%20177/csc177-group-project/assignment04_cluster_analysis_ann_and_text_mining_project/textMining_ThomasJ.ipynb#W0sZmlsZQ%3D%3D?line=0'>1</a>\u001b[0m \u001b[39mimport\u001b[39;00m \u001b[39msklearn\u001b[39;00m\u001b[39m.\u001b[39;00m\u001b[39mfeature_extraction\u001b[39;00m\u001b[39m.\u001b[39;00m\u001b[39mtext\u001b[39;00m \u001b[39mas\u001b[39;00m \u001b[39msk_text\u001b[39;00m\n\u001b[0;32m      <a href='vscode-notebook-cell:/c%3A/Users/Test%20Subject%201/Desktop/Fall%202023/CSC%20177/csc177-group-project/assignment04_cluster_analysis_ann_and_text_mining_project/textMining_ThomasJ.ipynb#W0sZmlsZQ%3D%3D?line=3'>4</a>\u001b[0m corpus \u001b[39m=\u001b[39m [\u001b[39m'\u001b[39m\u001b[39mThe sudden rainstorm washed crocodiles into the ocean.\u001b[39m\u001b[39m'\u001b[39m,\n\u001b[0;32m      <a href='vscode-notebook-cell:/c%3A/Users/Test%20Subject%201/Desktop/Fall%202023/CSC%20177/csc177-group-project/assignment04_cluster_analysis_ann_and_text_mining_project/textMining_ThomasJ.ipynb#W0sZmlsZQ%3D%3D?line=4'>5</a>\u001b[0m            \u001b[39m'\u001b[39m\u001b[39mIt turns out you dont need all that stuff you insisted you did.\u001b[39m\u001b[39m'\u001b[39m,\n\u001b[0;32m      <a href='vscode-notebook-cell:/c%3A/Users/Test%20Subject%201/Desktop/Fall%202023/CSC%20177/csc177-group-project/assignment04_cluster_analysis_ann_and_text_mining_project/textMining_ThomasJ.ipynb#W0sZmlsZQ%3D%3D?line=5'>6</a>\u001b[0m            \u001b[39m'\u001b[39m\u001b[39mTomatoes make great weapons when water balloons arent available.\u001b[39m\u001b[39m'\u001b[39m,\n\u001b[1;32m   (...)\u001b[0m\n\u001b[0;32m      <a href='vscode-notebook-cell:/c%3A/Users/Test%20Subject%201/Desktop/Fall%202023/CSC%20177/csc177-group-project/assignment04_cluster_analysis_ann_and_text_mining_project/textMining_ThomasJ.ipynb#W0sZmlsZQ%3D%3D?line=8'>9</a>\u001b[0m            \u001b[39m'\u001b[39m\u001b[39mYouve been eyeing me all day and waiting for your move like a lion stalking a gazelle in a savannah.\u001b[39m\u001b[39m'\u001b[39m,\n\u001b[0;32m     <a href='vscode-notebook-cell:/c%3A/Users/Test%20Subject%201/Desktop/Fall%202023/CSC%20177/csc177-group-project/assignment04_cluster_analysis_ann_and_text_mining_project/textMining_ThomasJ.ipynb#W0sZmlsZQ%3D%3D?line=9'>10</a>\u001b[0m           ]\n",
      "\u001b[1;31mModuleNotFoundError\u001b[0m: No module named 'sklearn'"
     ]
    }
   ],
   "source": [
    "import sklearn.feature_extraction.text as sk_text\n",
    "\n",
    "\n",
    "corpus = ['The sudden rainstorm washed crocodiles into the ocean.',\n",
    "           'It turns out you dont need all that stuff you insisted you did.',\n",
    "           'Tomatoes make great weapons when water balloons arent available.',\n",
    "           'Ive traveled all around Africa and still havent found the gnu who stole my scarf.',\n",
    "           'The group quickly understood that toxic waste was the most effective barrier to use against the zombies.',\n",
    "           'Youve been eyeing me all day and waiting for your move like a lion stalking a gazelle in a savannah.',\n",
    "          ]\n",
    "\n",
    "\n",
    "\n"
   ]
  },
  {
   "cell_type": "code",
   "execution_count": null,
   "metadata": {},
   "outputs": [],
   "source": [
    "vectorizer = sk_text.CountVectorizer(min_df=1)\n",
    "#vectorizer = sk_text.CountVectorizer(stop_words = 'english')\n",
    "\n",
    "#min_df: ignore terms that have a document frequency < min_df.\n",
    "\n",
    "matrix = vectorizer.fit_transform(corpus)\n",
    "\n",
    "print(type(matrix))          # Compressed Sparse Row matrix\n",
    "print(matrix.toarray())        #  convert it to numpy array\n",
    "\n",
    "print(vectorizer.get_feature_names())"
   ]
  },
  {
   "cell_type": "code",
   "execution_count": null,
   "metadata": {},
   "outputs": [],
   "source": [
    "vectorizer = sk_text.TfidfVectorizer(\n",
    "                             #stop_words='english',\n",
    "                             #max_features = 1000,\n",
    "                             min_df=1)\n",
    "\n",
    "\n",
    "#max_features:  build a vocabulary that only consider the top max_features features ordered by term frequency across the corpus.\n",
    "\n",
    "matrix = vectorizer.fit_transform(corpus)\n",
    "\n",
    "print(type(matrix))          # Compressed Sparse Row matrix\n",
    "print(matrix.toarray())        #  convert it to numpy array\n",
    "\n",
    "print(vectorizer.get_feature_names())\n"
   ]
  },
  {
   "cell_type": "code",
   "execution_count": null,
   "metadata": {},
   "outputs": [],
   "source": [
    "vectorizer = sk_text.TfidfVectorizer(#stop_words='english',\n",
    "                             #max_features = 1000,\n",
    "                             min_df=2, \n",
    "                             #max_df=5\n",
    "                             )\n",
    "\n",
    "#min_df: ignore terms that have a document frequency < min_df.\n",
    "#max_df: ignore terms that have a document frequency > max_df\n",
    "\n",
    "\n",
    "matrix = vectorizer.fit_transform(corpus)\n",
    "print(type(matrix))               # Compressed Sparse Row matrix\n",
    "\n",
    "tfidf_data = matrix.toarray()     #  convert it to numpy array\n",
    "\n",
    "print(tfidf_data)\n",
    "print(vectorizer.get_feature_names())"
   ]
  }
 ],
 "metadata": {
  "kernelspec": {
   "display_name": "Python 3",
   "language": "python",
   "name": "python3"
  },
  "language_info": {
   "codemirror_mode": {
    "name": "ipython",
    "version": 3
   },
   "file_extension": ".py",
   "mimetype": "text/x-python",
   "name": "python",
   "nbconvert_exporter": "python",
   "pygments_lexer": "ipython3",
   "version": "3.11.7"
  }
 },
 "nbformat": 4,
 "nbformat_minor": 2
}
