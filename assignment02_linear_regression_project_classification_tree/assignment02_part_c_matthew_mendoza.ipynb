{
 "cells": [
  {
   "cell_type": "markdown",
   "metadata": {},
   "source": [
    "# Linear Regression Project & Classification Tree Homework: Part C - Classification\n",
    "\n",
    "Discretize the last column \"Chance of Admit\" into three classes and\n",
    "create a classification tree with training data\n"
   ]
  },
  {
   "cell_type": "code",
   "execution_count": 10,
   "metadata": {},
   "outputs": [
    {
     "name": "stdout",
     "output_type": "stream",
     "text": [
      "Accuracy: 0.76\n"
     ]
    }
   ],
   "source": [
    "import pandas as pd\n",
    "from sklearn.model_selection import train_test_split\n",
    "from sklearn.tree import DecisionTreeClassifier\n",
    "from sklearn.metrics import accuracy_score\n",
    "import os\n",
    "\n",
    "# Path to the CSV file containing the data to be used for this part of the assignment\n",
    "path_to_data_file_csv: str = os.path.normpath(\n",
    "    r\".\\data\\part_b_linear_regression_data\\admission_predict_ver1.1_small_data_set_for_linear_regression.csv\"\n",
    ")\n",
    "\n",
    "# Load the CSV file into a pandas DataFrame\n",
    "df = pd.read_csv(path_to_data_file_csv)\n",
    "\n",
    "# Discretize the \"Chance of Admit\" column into three classes\n",
    "df['Chance of Admit'] = pd.cut(\n",
    "    df['Chance of Admit'],  # Column to discretize (continuous)\n",
    "    bins=3,  # Number of bins to use for discretization\n",
    "    labels=['Low', 'Medium', 'High']  # Labels for the three classes\n",
    ")\n",
    "\n",
    "# Split the data into training and testing sets\n",
    "x_train: pd.DataFrame # Training data (features) (80% of the data)\n",
    "x_test: pd.DataFrame # Testing data (features) (20% of the data)\n",
    "y_train: pd.Series # Training data (target) (80% of the data)\n",
    "y_test: pd.Series # Testing data (target) (20% of the data)\n",
    "x_train, x_test, y_train, y_test = train_test_split(\n",
    "    # Drop the target column from the training data (axis=1 means column)\n",
    "    df.drop('Chance of Admit', axis=1),\n",
    "    # Target column (Chance of Admit) for training data\n",
    "    df['Chance of Admit'],\n",
    "    # 20% of the data will be used for testing (80% for training)\n",
    "    test_size=0.2,\n",
    "    # Random seed for reproducibility of results (42 is arbitrary)\n",
    "    random_state=42\n",
    ")\n",
    "\n",
    "# Create a DecisionTreeClassifier object\n",
    "clf: DecisionTreeClassifier = DecisionTreeClassifier()\n",
    "\n",
    "# Fit the classifier to the training data\n",
    "clf.fit(x_train, y_train)  # No need to scale the data for decision trees\n",
    "\n",
    "# Predict the classes of the testing data\n",
    "y_pred: list = clf.predict(x_test)\n",
    "\n",
    "# Evaluate the performance of the classifier\n",
    "accuracy: float = accuracy_score(y_test, y_pred)\n",
    "\n",
    "print('Accuracy:', accuracy)"
   ]
  },
  {
   "cell_type": "markdown",
   "metadata": {},
   "source": [
    "Test the tree with test data and evaluate the results in Python.\n"
   ]
  },
  {
   "cell_type": "code",
   "execution_count": null,
   "metadata": {},
   "outputs": [],
   "source": []
  }
 ],
 "metadata": {
  "kernelspec": {
   "display_name": "venv",
   "language": "python",
   "name": "python3"
  },
  "language_info": {
   "codemirror_mode": {
    "name": "ipython",
    "version": 3
   },
   "file_extension": ".py",
   "mimetype": "text/x-python",
   "name": "python",
   "nbconvert_exporter": "python",
   "pygments_lexer": "ipython3",
   "version": "3.11.4"
  }
 },
 "nbformat": 4,
 "nbformat_minor": 2
}
