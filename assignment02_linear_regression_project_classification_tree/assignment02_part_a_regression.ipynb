{
 "cells": [
  {
   "cell_type": "markdown",
   "metadata": {},
   "source": [
    "# Part A - Regression - Linear Regression Project & Classification Tree Homework\n",
    "\n",
    "- [About: A public data lake for COVID-19 research and development](https://aws.amazon.com/covid-19-data-lake/)\n",
    "- [AWS Big Data Blog: A public data lake for analysis of COVID-19 data](https://aws.amazon.com/blogs/big-data/a-public-data-lake-for-analysis-of-covid-19-data/)\n",
    "- [COVID-19 S3 data browser](https://covid19-lake.s3.us-east-2.amazonaws.com/databrowser.html)\n",
    "\n",
    "## Requirements: Python Package Dependencies\n",
    "\n",
    "- autopep8\n",
    "- pandas\n",
    "- scikit-learn\n"
   ]
  },
  {
   "cell_type": "code",
   "execution_count": 5,
   "metadata": {},
   "outputs": [],
   "source": [
    "import pandas as pd\n",
    "import os\n",
    "\n",
    "# Name of the new CSV file with the cleaned data\n",
    "new_file_cleaned_data: str = \"cleaned_enigma_covid_19_us_counties.csv\"\n",
    "\n",
    "# Path to the folder with the dataset\n",
    "data_folder_path: str = os.path.normpath(\n",
    "    r\".\\data\\part_a\\covid19-lake\\enigma-aggregation\\csv\\us_counties\"\n",
    ")\n",
    "\n",
    "# Path to the CSV file with the dataset\n",
    "data_file_path: str = os.path.join(\n",
    "    data_folder_path,\n",
    "    \"enigma_covid_19_us_counties.csv\"\n",
    ")\n",
    "\n",
    "# Read the CSV file into a DataFrame\n",
    "df = pd.read_csv(data_file_path)\n",
    "\n",
    "# Remove the column \"area_name\" for its the majority of values are missing\n",
    "df = df.drop('area_name', axis=1) # axis=1 means column axis (axis=0 is row axis)\n",
    "\n",
    "# Drop any rows with missing values\n",
    "df = df.dropna()\n",
    "\n",
    "# Save the cleaned DataFrame to a new CSV file\n",
    "df.to_csv(\n",
    "    os.path.join(data_folder_path, new_file_cleaned_data),\n",
    "    index=False\n",
    ")"
   ]
  }
 ],
 "metadata": {
  "kernelspec": {
   "display_name": "venv",
   "language": "python",
   "name": "python3"
  },
  "language_info": {
   "codemirror_mode": {
    "name": "ipython",
    "version": 3
   },
   "file_extension": ".py",
   "mimetype": "text/x-python",
   "name": "python",
   "nbconvert_exporter": "python",
   "pygments_lexer": "ipython3",
   "version": "3.11.4"
  }
 },
 "nbformat": 4,
 "nbformat_minor": 2
}
